{
  "nbformat": 4,
  "nbformat_minor": 0,
  "metadata": {
    "colab": {
      "provenance": [],
      "authorship_tag": "ABX9TyOoojVkhzLWS/3fDyUm7Cud",
      "include_colab_link": true
    },
    "kernelspec": {
      "name": "python3",
      "display_name": "Python 3"
    },
    "language_info": {
      "name": "python"
    }
  },
  "cells": [
    {
      "cell_type": "markdown",
      "metadata": {
        "id": "view-in-github",
        "colab_type": "text"
      },
      "source": [
        "<a href=\"https://colab.research.google.com/github/kimsh519/ms-ai-school/blob/main/230522_9506.ipynb\" target=\"_parent\"><img src=\"https://colab.research.google.com/assets/colab-badge.svg\" alt=\"Open In Colab\"/></a>"
      ]
    },
    {
      "cell_type": "code",
      "execution_count": 1,
      "metadata": {
        "colab": {
          "base_uri": "https://localhost:8080/"
        },
        "id": "-dD2Xn0JKy-D",
        "outputId": "0531c920-f68f-4d61-e0c8-8187e67bd049"
      },
      "outputs": [
        {
          "name": "stdout",
          "output_type": "stream",
          "text": [
            "6\n",
            "6 = 1 + 2 + 3\n",
            "12\n",
            "12 is NOT perfect.\n",
            "28\n",
            "28 = 1 + 2 + 4 + 7 + 14\n",
            "-1\n"
          ]
        }
      ],
      "source": [
        "x=0\n",
        "x_list = []\n",
        "while x != -1 :\n",
        "  x = int(input())\n",
        "  if x == -1 :\n",
        "    break\n",
        "  else :\n",
        "    for i in range(1,x+1) :\n",
        "      if x % i == 0 :\n",
        "        if x != i :\n",
        "          x_list.append(i)\n",
        "    if sum(x_list) == x :\n",
        "      print(x,'=',end = ' ')\n",
        "      for i in range(1,len(x_list)+1) :\n",
        "        if i == len(x_list) :\n",
        "          print(x_list[i-1])\n",
        "        else :\n",
        "          print(x_list[i-1],end = ' ')\n",
        "        if i != len(x_list) :\n",
        "          print('+',end = ' ')\n",
        "    else :\n",
        "      print(x , 'is NOT perfect.')\n",
        "    x_list = []"
      ]
    },
    {
      "cell_type": "code",
      "source": [],
      "metadata": {
        "id": "2ULAJq73FVrN"
      },
      "execution_count": null,
      "outputs": []
    }
  ]
}