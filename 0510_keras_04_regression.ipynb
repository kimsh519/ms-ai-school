{
  "nbformat": 4,
  "nbformat_minor": 0,
  "metadata": {
    "colab": {
      "provenance": [],
      "authorship_tag": "ABX9TyMsv2sCWC+dBo+Fe0OfUpcl",
      "include_colab_link": true
    },
    "kernelspec": {
      "name": "python3",
      "display_name": "Python 3"
    },
    "language_info": {
      "name": "python"
    }
  },
  "cells": [
    {
      "cell_type": "markdown",
      "metadata": {
        "id": "view-in-github",
        "colab_type": "text"
      },
      "source": [
        "<a href=\"https://colab.research.google.com/github/kimsh519/ms-ai-school/blob/main/0510_keras_04_regression.ipynb\" target=\"_parent\"><img src=\"https://colab.research.google.com/assets/colab-badge.svg\" alt=\"Open In Colab\"/></a>"
      ]
    },
    {
      "cell_type": "code",
      "execution_count": 39,
      "metadata": {
        "id": "h51tISBsdgu6"
      },
      "outputs": [],
      "source": [
        "# 데이터 가져오기\n",
        "from keras.datasets import boston_housing\n",
        "(train_data,train_labels),(test_data,test_labels) = boston_housing.load_data()"
      ]
    },
    {
      "cell_type": "code",
      "source": [
        "print(train_data.shape)\n",
        "print(test_data.shape)"
      ],
      "metadata": {
        "colab": {
          "base_uri": "https://localhost:8080/"
        },
        "id": "9Yq4kyo2eE4R",
        "outputId": "a75be1ce-1cbf-4c08-b9ce-d9a9c8cabb26"
      },
      "execution_count": 40,
      "outputs": [
        {
          "output_type": "stream",
          "name": "stdout",
          "text": [
            "(404, 13)\n",
            "(102, 13)\n"
          ]
        }
      ]
    },
    {
      "cell_type": "code",
      "source": [
        "print(train_labels[0])\n",
        "print(train_data[0])"
      ],
      "metadata": {
        "colab": {
          "base_uri": "https://localhost:8080/"
        },
        "id": "M0wnTmlSeLgh",
        "outputId": "11db0c2a-037e-4fb9-9e1a-2df71d482ec4"
      },
      "execution_count": 41,
      "outputs": [
        {
          "output_type": "stream",
          "name": "stdout",
          "text": [
            "15.2\n",
            "[  1.23247   0.        8.14      0.        0.538     6.142    91.7\n",
            "   3.9769    4.      307.       21.      396.9      18.72   ]\n"
          ]
        }
      ]
    },
    {
      "cell_type": "code",
      "source": [
        "# 데이터 전처리 (scaling)\n",
        "\n",
        "mean = train_data.mean(axis = 0)\n",
        "train_data -= mean # 전체 데이터에서 평균을 다 빼주었다\n",
        "std = train_data.std(axis = 0)\n",
        "train_data /= std\n",
        "train_data[0]\n"
      ],
      "metadata": {
        "colab": {
          "base_uri": "https://localhost:8080/"
        },
        "id": "OE27kIFgeh-_",
        "outputId": "152c996f-cc53-401d-a437-624d3c4b10b9"
      },
      "execution_count": 42,
      "outputs": [
        {
          "output_type": "execute_result",
          "data": {
            "text/plain": [
              "array([-0.27224633, -0.48361547, -0.43576161, -0.25683275, -0.1652266 ,\n",
              "       -0.1764426 ,  0.81306188,  0.1166983 , -0.62624905, -0.59517003,\n",
              "        1.14850044,  0.44807713,  0.8252202 ])"
            ]
          },
          "metadata": {},
          "execution_count": 42
        }
      ]
    },
    {
      "cell_type": "code",
      "source": [
        "# 모델의 구성\n",
        "from keras import models\n",
        "from keras import layers\n",
        "\n",
        "def build_model() :\n",
        "  model = models.Sequential()\n",
        "  model.add(layers.Dense(64, activation = 'relu', input_shape=(train_data.shape[1],)))\n",
        "  model.add(layers.Dense(64, activation = 'relu'))\n",
        "  model.add(layers.Dense(1))\n",
        "  model.compile(optimizer = 'rmsprop', loss = 'mse', metrics = ['mse'])\n",
        "  return model"
      ],
      "metadata": {
        "id": "4DdzGrzOfN6i"
      },
      "execution_count": 43,
      "outputs": []
    },
    {
      "cell_type": "code",
      "source": [
        "# K-folder 검증을 사용한 훈련 검증 \n",
        "\n",
        "import numpy as np \n",
        "\n",
        "k = 4                                       # folder 개수\n",
        "num_val_samples = len(train_data) // k      # 한 folder의 데이터 수 \n",
        "all_scores = []\n",
        "\n",
        "for i in range(k):\n",
        "  print('처리중인 폴드 #', i)\n",
        "\n",
        "  # 검증 데이터의 준비 \n",
        "  val_data = train_data[i * num_val_samples: (i + 1) * num_val_samples]\n",
        "  val_labels = train_labels[i * num_val_samples: (i + 1) * num_val_samples]\n",
        "   # i번째 폴드에 해당하는 데이터부터 i+1번쨰까지를 검증 데이터로 한다\n",
        "\n",
        "  # 학습 데이터의 준비\n",
        "  data1 = train_data[:i * num_val_samples]\n",
        "  data2 = train_data[(i+1) * num_val_samples :]\n",
        "  data1_labels = train_labels[:i * num_val_samples]\n",
        "  data2_labels = train_labels[(i+1) * num_val_samples :]\n",
        "  # 학습 데이터와 검증 데이터를 분리하기 위해서 concatenate 함수를 사용해 병합한다.\n",
        "  partial_train_data = np.concatenate([data1, data2], axis=0)\n",
        "  partial_train_labels = np.concatenate([data1_labels, data2_labels], axis=0)\n",
        "  # axis = 0 을 추가함으로서 행을 기준으로 병합시켰다\n",
        "\n",
        "  # 모델의 학습\n",
        "  model = build_model()\n",
        "  model.summary()\n",
        "  history = model.fit(partial_train_data, partial_train_labels, epochs=500, batch_size=128, verbose=0)\n",
        "  #verbose = 0  : 각각의 epochs 결과를 skip하고 결론만 보여준다\n",
        "\n",
        "  # 모델의 검증\n",
        "  val_mse, val_mae = model.evaluate(val_data, val_labels)\n",
        "  print(val_mse, val_mae)\n",
        "  all_scores.append(val_mae)\n",
        "  \n"
      ],
      "metadata": {
        "colab": {
          "base_uri": "https://localhost:8080/"
        },
        "id": "qlA27lcHj0QI",
        "outputId": "69e53187-4d56-49a9-bf78-a50041d03120"
      },
      "execution_count": 44,
      "outputs": [
        {
          "output_type": "stream",
          "name": "stdout",
          "text": [
            "처리중인 폴드 # 0\n",
            "Model: \"sequential_23\"\n",
            "_________________________________________________________________\n",
            " Layer (type)                Output Shape              Param #   \n",
            "=================================================================\n",
            " dense_62 (Dense)            (None, 64)                896       \n",
            "                                                                 \n",
            " dense_63 (Dense)            (None, 64)                4160      \n",
            "                                                                 \n",
            " dense_64 (Dense)            (None, 1)                 65        \n",
            "                                                                 \n",
            "=================================================================\n",
            "Total params: 5,121\n",
            "Trainable params: 5,121\n",
            "Non-trainable params: 0\n",
            "_________________________________________________________________\n",
            "4/4 [==============================] - 0s 3ms/step - loss: 8.1940 - mse: 8.1940\n",
            "8.193965911865234 8.193965911865234\n",
            "처리중인 폴드 # 1\n",
            "Model: \"sequential_24\"\n",
            "_________________________________________________________________\n",
            " Layer (type)                Output Shape              Param #   \n",
            "=================================================================\n",
            " dense_65 (Dense)            (None, 64)                896       \n",
            "                                                                 \n",
            " dense_66 (Dense)            (None, 64)                4160      \n",
            "                                                                 \n",
            " dense_67 (Dense)            (None, 1)                 65        \n",
            "                                                                 \n",
            "=================================================================\n",
            "Total params: 5,121\n",
            "Trainable params: 5,121\n",
            "Non-trainable params: 0\n",
            "_________________________________________________________________\n",
            "4/4 [==============================] - 0s 4ms/step - loss: 11.7594 - mse: 11.7594\n",
            "11.75937557220459 11.75937557220459\n",
            "처리중인 폴드 # 2\n",
            "Model: \"sequential_25\"\n",
            "_________________________________________________________________\n",
            " Layer (type)                Output Shape              Param #   \n",
            "=================================================================\n",
            " dense_68 (Dense)            (None, 64)                896       \n",
            "                                                                 \n",
            " dense_69 (Dense)            (None, 64)                4160      \n",
            "                                                                 \n",
            " dense_70 (Dense)            (None, 1)                 65        \n",
            "                                                                 \n",
            "=================================================================\n",
            "Total params: 5,121\n",
            "Trainable params: 5,121\n",
            "Non-trainable params: 0\n",
            "_________________________________________________________________\n",
            "4/4 [==============================] - 0s 4ms/step - loss: 14.0644 - mse: 14.0644\n",
            "14.064393043518066 14.064393043518066\n",
            "처리중인 폴드 # 3\n",
            "Model: \"sequential_26\"\n",
            "_________________________________________________________________\n",
            " Layer (type)                Output Shape              Param #   \n",
            "=================================================================\n",
            " dense_71 (Dense)            (None, 64)                896       \n",
            "                                                                 \n",
            " dense_72 (Dense)            (None, 64)                4160      \n",
            "                                                                 \n",
            " dense_73 (Dense)            (None, 1)                 65        \n",
            "                                                                 \n",
            "=================================================================\n",
            "Total params: 5,121\n",
            "Trainable params: 5,121\n",
            "Non-trainable params: 0\n",
            "_________________________________________________________________\n",
            "4/4 [==============================] - 0s 4ms/step - loss: 10.9286 - mse: 10.9286\n",
            "10.928557395935059 10.928557395935059\n"
          ]
        }
      ]
    },
    {
      "cell_type": "code",
      "source": [
        "np.mean(all_scores)"
      ],
      "metadata": {
        "colab": {
          "base_uri": "https://localhost:8080/"
        },
        "id": "leainZJY2EKv",
        "outputId": "1ad7158d-97f9-4422-ac38-25d742144e78"
      },
      "execution_count": 45,
      "outputs": [
        {
          "output_type": "execute_result",
          "data": {
            "text/plain": [
              "11.236572980880737"
            ]
          },
          "metadata": {},
          "execution_count": 45
        }
      ]
    },
    {
      "cell_type": "code",
      "source": [],
      "metadata": {
        "id": "4XvehBL_JFFS"
      },
      "execution_count": null,
      "outputs": []
    }
  ]
}