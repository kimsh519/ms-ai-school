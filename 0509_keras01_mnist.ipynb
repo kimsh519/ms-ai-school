{
  "nbformat": 4,
  "nbformat_minor": 0,
  "metadata": {
    "colab": {
      "provenance": [],
      "authorship_tag": "ABX9TyNFXfjhzBCW1tyJlp5IAfoI",
      "include_colab_link": true
    },
    "kernelspec": {
      "name": "python3",
      "display_name": "Python 3"
    },
    "language_info": {
      "name": "python"
    }
  },
  "cells": [
    {
      "cell_type": "markdown",
      "metadata": {
        "id": "view-in-github",
        "colab_type": "text"
      },
      "source": [
        "<a href=\"https://colab.research.google.com/github/kimsh519/ms-ai-school/blob/main/keras_mnist.ipynb\" target=\"_parent\"><img src=\"https://colab.research.google.com/assets/colab-badge.svg\" alt=\"Open In Colab\"/></a>"
      ]
    },
    {
      "cell_type": "code",
      "execution_count": 20,
      "metadata": {
        "id": "jznrwbpzTGCV"
      },
      "outputs": [],
      "source": [
        "import keras\n",
        "keras.__version__\n",
        "from keras.datasets import mnist\n",
        "(train_images,train_labels),(test_images,test_labels) = mnist.load_data()"
      ]
    },
    {
      "cell_type": "code",
      "source": [
        "print(train_images.shape)\n",
        "print(train_labels.shape)\n",
        "print(test_images.shape)"
      ],
      "metadata": {
        "colab": {
          "base_uri": "https://localhost:8080/"
        },
        "id": "Jh4fhDBsTJLs",
        "outputId": "0cbfdb5c-d423-4398-807b-ddbed76a332b"
      },
      "execution_count": 21,
      "outputs": [
        {
          "output_type": "stream",
          "name": "stdout",
          "text": [
            "(60000, 28, 28)\n",
            "(60000,)\n",
            "(10000, 28, 28)\n"
          ]
        }
      ]
    },
    {
      "cell_type": "code",
      "source": [
        "# 데이터 확인\n",
        "import matplotlib.pyplot as plt\n",
        "\n",
        "digit = train_images[6]   #7번째 이미지를 가지고 오겠다\n",
        "plt.imshow(digit , cmap = plt.cm.binary)\n"
      ],
      "metadata": {
        "colab": {
          "base_uri": "https://localhost:8080/",
          "height": 448
        },
        "id": "l9LtHrCFTRi0",
        "outputId": "39a9cc22-40b4-49d6-d3e2-83b4349db2c6"
      },
      "execution_count": 22,
      "outputs": [
        {
          "output_type": "execute_result",
          "data": {
            "text/plain": [
              "<matplotlib.image.AxesImage at 0x7f708c9f0f40>"
            ]
          },
          "metadata": {},
          "execution_count": 22
        },
        {
          "output_type": "display_data",
          "data": {
            "text/plain": [
              "<Figure size 640x480 with 1 Axes>"
            ],
            "image/png": "[encoded data removed]"
          },
          "metadata": {}
        }
      ]
    },
    {
      "cell_type": "code",
      "source": [
        "# 신경망을 만드는 부분\n",
        "\n",
        "from keras import models\n",
        "from keras import layers\n",
        "\n",
        "network = models.Sequential()    #순차적으로 레이어를 쌓겠다\n",
        "network.add(layers.Dense(512,activation = 'relu',input_shape= (28*28,)))   # 첫 번째 레이어의 유닛을 512개 생성한 후 relu 방식으로 activation을 넘긴다 \n",
        "network.add(layers.Dense(10,activation = 'softmax'))\n",
        "network.compile(optimizer = 'rmsprop',loss = 'categorical_crossentropy',metrics=['accuracy'])\n",
        " # loss function 과 가중치를 조절하는 optimizer 을 설정하고 오류를 잡을 때 어떤 항목을 지표로 할지 정하는 metric이 필요하다\n"
      ],
      "metadata": {
        "id": "s18T5Be4TTLA"
      },
      "execution_count": 23,
      "outputs": []
    },
    {
      "cell_type": "code",
      "source": [
        "# 데이터를 준비하는 부분\n",
        "\n",
        "train_images = train_images.reshape((60000,28*28))    \n",
        "#28*28*60000을 784*60000의 2차원 데이터로 표현 , 컴퓨터의 입장에서 3차원 보다 2차원의 데이터가 계산하기 더 편하다\n",
        "train_images = train_images.astype('float32') / 255\n",
        "# type을 float32로 바꾸고, 값을 0~1 사이로 해주기 위하여 255를 나눈다\n",
        "test_images = test_images.reshape((10000,28*28))\n",
        "test_images = test_images.astype('float32') / 255"
      ],
      "metadata": {
        "id": "anFlIYlITVbE"
      },
      "execution_count": 24,
      "outputs": []
    },
    {
      "cell_type": "code",
      "source": [
        "train_labels # 컴퓨터는 이 숫자가 계산을 위한 숫자인지 구별을 위한 숫자인지 잘 모른다"
      ],
      "metadata": {
        "colab": {
          "base_uri": "https://localhost:8080/"
        },
        "id": "fXCPtr5jT4E2",
        "outputId": "84bdf77a-f31c-4051-a3a1-b4b2c9fa8d0b"
      },
      "execution_count": 25,
      "outputs": [
        {
          "output_type": "execute_result",
          "data": {
            "text/plain": [
              "array([5, 0, 4, ..., 5, 6, 8], dtype=uint8)"
            ]
          },
          "metadata": {},
          "execution_count": 25
        }
      ]
    },
    {
      "cell_type": "code",
      "source": [
        "from tensorflow.keras.utils import to_categorical   # 숫자가 구별을 위한 용도라는 것을 표현\n",
        "\n",
        "train_labels = to_categorical(train_labels)\n",
        "test_labels = to_categorical(test_labels)"
      ],
      "metadata": {
        "id": "C6sDQvlGTXWJ"
      },
      "execution_count": 26,
      "outputs": []
    },
    {
      "cell_type": "code",
      "source": [
        "# 신경망의 학습\n",
        "network.fit(train_images, train_labels, epochs=5, batch_size=128) #5번 진행한다"
      ],
      "metadata": {
        "colab": {
          "base_uri": "https://localhost:8080/"
        },
        "id": "hfbdcgJ0Tb8B",
        "outputId": "f87a69b0-66e6-4a02-8e09-1c3cac9eed86"
      },
      "execution_count": 27,
      "outputs": [
        {
          "output_type": "stream",
          "name": "stdout",
          "text": [
            "Epoch 1/5\n",
            "469/469 [==============================] - 6s 11ms/step - loss: 0.2649 - accuracy: 0.9238\n",
            "Epoch 2/5\n",
            "469/469 [==============================] - 5s 12ms/step - loss: 0.1075 - accuracy: 0.9687\n",
            "Epoch 3/5\n",
            "469/469 [==============================] - 5s 10ms/step - loss: 0.0714 - accuracy: 0.9793\n",
            "Epoch 4/5\n",
            "469/469 [==============================] - 6s 12ms/step - loss: 0.0518 - accuracy: 0.9845\n",
            "Epoch 5/5\n",
            "469/469 [==============================] - 5s 10ms/step - loss: 0.0387 - accuracy: 0.9887\n"
          ]
        },
        {
          "output_type": "execute_result",
          "data": {
            "text/plain": [
              "<keras.callbacks.History at 0x7f708b8c5660>"
            ]
          },
          "metadata": {},
          "execution_count": 27
        }
      ]
    },
    {
      "cell_type": "code",
      "source": [
        "test_loss, test_acc = network.evaluate(test_images, test_labels)\n",
        "print('test acc :',test_acc)"
      ],
      "metadata": {
        "colab": {
          "base_uri": "https://localhost:8080/"
        },
        "id": "vfDCI8otTeDg",
        "outputId": "871a1d73-6e81-4f1d-a973-085d26cb8c49"
      },
      "execution_count": 19,
      "outputs": [
        {
          "output_type": "stream",
          "name": "stdout",
          "text": [
            "313/313 [==============================] - 1s 3ms/step - loss: 0.0642 - accuracy: 0.9783\n",
            "test acc : 0.9782999753952026\n"
          ]
        }
      ]
    },
    {
      "cell_type": "code",
      "source": [],
      "metadata": {
        "id": "QzMJHOeMTpjl"
      },
      "execution_count": 27,
      "outputs": []
    }
  ]
}
