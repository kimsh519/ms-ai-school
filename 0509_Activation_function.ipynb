{
  "nbformat": 4,
  "nbformat_minor": 0,
  "metadata": {
    "colab": {
      "provenance": [],
      "authorship_tag": "ABX9TyMaKVQ8kQ8aQvlDNnHIbrcM",
      "include_colab_link": true
    },
    "kernelspec": {
      "name": "python3",
      "display_name": "Python 3"
    },
    "language_info": {
      "name": "python"
    }
  },
  "cells": [
    {
      "cell_type": "markdown",
      "metadata": {
        "id": "view-in-github",
        "colab_type": "text"
      },
      "source": [
        "<a href=\"https://colab.research.google.com/github/kimsh519/ms-ai-school/blob/main/Activation_function.ipynb\" target=\"_parent\"><img src=\"https://colab.research.google.com/assets/colab-badge.svg\" alt=\"Open In Colab\"/></a>"
      ]
    },
    {
      "cell_type": "code",
      "execution_count": 28,
      "metadata": {
        "id": "-dNO0z9119DS"
      },
      "outputs": [],
      "source": [
        "import math\n",
        "import numpy as np\n",
        "import matplotlib.pyplot as plt  #라이브러리 추가 "
      ]
    },
    {
      "cell_type": "code",
      "source": [
        "# Activation Function"
      ],
      "metadata": {
        "id": "dqEyoXea19kh"
      },
      "execution_count": 29,
      "outputs": []
    },
    {
      "cell_type": "code",
      "source": [
        "# Step function (계단함수)\n",
        "def step_function(x) :\n",
        "  if x > 0 :\n",
        "    return 1\n",
        "  else :\n",
        "    return 0"
      ],
      "metadata": {
        "id": "CnS7ho5z2BRA"
      },
      "execution_count": 30,
      "outputs": []
    },
    {
      "cell_type": "code",
      "source": [
        "print(step_function(0))\n",
        "print(step_function(-1))\n",
        "print(step_function(0.1))"
      ],
      "metadata": {
        "colab": {
          "base_uri": "https://localhost:8080/"
        },
        "id": "YP_KmHoy2jCr",
        "outputId": "217de00c-1587-480d-bd67-3e3b4e3c8b9f"
      },
      "execution_count": 31,
      "outputs": [
        {
          "output_type": "stream",
          "name": "stdout",
          "text": [
            "0\n",
            "0\n",
            "1\n"
          ]
        }
      ]
    },
    {
      "cell_type": "code",
      "source": [
        "def step_function_for_numpy(x) :\n",
        "  y = x > 0\n",
        "  return y.astype(np.int)\n"
      ],
      "metadata": {
        "id": "QEM4wY4q2td8"
      },
      "execution_count": 32,
      "outputs": []
    },
    {
      "cell_type": "code",
      "source": [
        "a = np.array([5,3,-4,2,0])\n",
        "print(step_function_for_numpy(a))"
      ],
      "metadata": {
        "colab": {
          "base_uri": "https://localhost:8080/"
        },
        "id": "xjLP2mt12_uU",
        "outputId": "bb4a06cb-d2ea-4fc4-ef21-257f6b0937e1"
      },
      "execution_count": 33,
      "outputs": [
        {
          "output_type": "stream",
          "name": "stdout",
          "text": [
            "[1 1 0 1 0]\n"
          ]
        },
        {
          "output_type": "stream",
          "name": "stderr",
          "text": [
            "<ipython-input-32-cdec54289e83>:3: DeprecationWarning: `np.int` is a deprecated alias for the builtin `int`. To silence this warning, use `int` by itself. Doing this will not modify any behavior and is safe. When replacing `np.int`, you may wish to use e.g. `np.int64` or `np.int32` to specify the precision. If you wish to review your current use, check the release note link for additional information.\n",
            "Deprecated in NumPy 1.20; for more details and guidance: https://numpy.org/devdocs/release/1.20.0-notes.html#deprecations\n",
            "  return y.astype(np.int)\n"
          ]
        }
      ]
    },
    {
      "cell_type": "code",
      "source": [
        "# Sigmoid Function \n",
        "\n",
        "def sigmoid(x):\n",
        "  return 1/ (1+np.exp(-x))"
      ],
      "metadata": {
        "id": "roMm4qo03dyZ"
      },
      "execution_count": 34,
      "outputs": []
    },
    {
      "cell_type": "code",
      "source": [
        "print(sigmoid(3))\n",
        "print(sigmoid(10))\n",
        "print(sigmoid(100))\n",
        "print(sigmoid(-3))\n",
        "print(sigmoid(-100))"
      ],
      "metadata": {
        "colab": {
          "base_uri": "https://localhost:8080/"
        },
        "id": "6tVX95vd7kcg",
        "outputId": "24f401ec-cb17-45a2-8744-6dc3543f8019"
      },
      "execution_count": 35,
      "outputs": [
        {
          "output_type": "stream",
          "name": "stdout",
          "text": [
            "0.9525741268224334\n",
            "0.9999546021312976\n",
            "1.0\n",
            "0.04742587317756678\n",
            "3.7200759760208356e-44\n"
          ]
        }
      ]
    },
    {
      "cell_type": "code",
      "source": [
        "#Step function vs Sigmoid function \n",
        "import matplotlib.pyplot as plt\n",
        "\n",
        "x = np.arange(-5,5,0.01)\n",
        "y1 = sigmoid(x)\n",
        "y2 = step_function_for_numpy(x)\n",
        "\n",
        "plt.plot(x, y1, 'r-',label = 'sigmoid function')\n",
        "plt.plot(x, y2, 'b--', label = 'step function')\n",
        "plt.legend()"
      ],
      "metadata": {
        "colab": {
          "base_uri": "https://localhost:8080/",
          "height": 522
        },
        "id": "s4zndmDt7lp3",
        "outputId": "ae14eb41-25f4-4af9-f036-26c2a9c08a98"
      },
      "execution_count": 36,
      "outputs": [
        {
          "output_type": "stream",
          "name": "stderr",
          "text": [
            "<ipython-input-32-cdec54289e83>:3: DeprecationWarning: `np.int` is a deprecated alias for the builtin `int`. To silence this warning, use `int` by itself. Doing this will not modify any behavior and is safe. When replacing `np.int`, you may wish to use e.g. `np.int64` or `np.int32` to specify the precision. If you wish to review your current use, check the release note link for additional information.\n",
            "Deprecated in NumPy 1.20; for more details and guidance: https://numpy.org/devdocs/release/1.20.0-notes.html#deprecations\n",
            "  return y.astype(np.int)\n"
          ]
        },
        {
          "output_type": "execute_result",
          "data": {
            "text/plain": [
              "<matplotlib.legend.Legend at 0x7f0b119d6710>"
            ]
          },
          "metadata": {},
          "execution_count": 36
        },
        {
          "output_type": "display_data",
          "data": {
            "text/plain": [
              "<Figure size 640x480 with 1 Axes>"
            ],
            "image/png": "[encoded data removed]"
          },
          "metadata": {}
        }
      ]
    },
    {
      "cell_type": "code",
      "source": [
        "#ReLu\n",
        "\n",
        "def ReLU(x):\n",
        "    return np.maximum(0,x)"
      ],
      "metadata": {
        "id": "08xM0WSY7nPJ"
      },
      "execution_count": 45,
      "outputs": []
    },
    {
      "cell_type": "code",
      "source": [
        "print(ReLU(5))\n",
        "print(ReLU(-5))"
      ],
      "metadata": {
        "colab": {
          "base_uri": "https://localhost:8080/"
        },
        "id": "W54qJe569mLL",
        "outputId": "14f5e38f-4b06-44fc-af1c-6e5489d8c598"
      },
      "execution_count": 46,
      "outputs": [
        {
          "output_type": "stream",
          "name": "stdout",
          "text": [
            "5\n",
            "0\n"
          ]
        }
      ]
    },
    {
      "cell_type": "code",
      "source": [
        "# Softmax function \n",
        "def softmax(x):\n",
        "  exp_x = np.exp(x)\n",
        "  sum_exp_x = np.sum(exp_x)\n",
        "  y = exp_x / sum_exp_x\n",
        "\n",
        "  return y"
      ],
      "metadata": {
        "id": "3UnF6hj7UNXt"
      },
      "execution_count": 47,
      "outputs": []
    },
    {
      "cell_type": "code",
      "source": [
        "x = np.array([0.3, 0.2, 3.0, -1, 2])\n",
        "print(softmax(x))\n",
        "print(np.sum(softmax(x)))"
      ],
      "metadata": {
        "colab": {
          "base_uri": "https://localhost:8080/"
        },
        "id": "WGnNbhuhUO1I",
        "outputId": "a4e16987-bd38-474c-9fbc-ed9c82d76f93"
      },
      "execution_count": 50,
      "outputs": [
        {
          "output_type": "stream",
          "name": "stdout",
          "text": [
            "[0.0443832  0.04015958 0.66041009 0.01209583 0.2429513 ]\n",
            "1.0\n"
          ]
        }
      ]
    },
    {
      "cell_type": "code",
      "source": [],
      "metadata": {
        "id": "4v2KIqVNUQk-"
      },
      "execution_count": null,
      "outputs": []
    }
  ]
}
