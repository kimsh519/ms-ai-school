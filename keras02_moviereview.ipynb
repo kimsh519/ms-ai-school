{
  "nbformat": 4,
  "nbformat_minor": 0,
  "metadata": {
    "colab": {
      "provenance": [],
      "authorship_tag": "ABX9TyNunpN0X24lsnXMdTyynAcq",
      "include_colab_link": true
    },
    "kernelspec": {
      "name": "python3",
      "display_name": "Python 3"
    },
    "language_info": {
      "name": "python"
    }
  },
  "cells": [
    {
      "cell_type": "markdown",
      "metadata": {
        "id": "view-in-github",
        "colab_type": "text"
      },
      "source": [
        "<a href=\"https://colab.research.google.com/github/kimsh519/ms-ai-school/blob/main/keras02_moviereview.ipynb\" target=\"_parent\"><img src=\"https://colab.research.google.com/assets/colab-badge.svg\" alt=\"Open In Colab\"/></a>"
      ]
    },
    {
      "cell_type": "code",
      "execution_count": 1,
      "metadata": {
        "colab": {
          "base_uri": "https://localhost:8080/"
        },
        "id": "kY4JwDn7YKQo",
        "outputId": "56f5664c-9b30-4f58-ba74-6d30237a2ab0"
      },
      "outputs": [
        {
          "output_type": "stream",
          "name": "stdout",
          "text": [
            "Downloading data from https://storage.googleapis.com/tensorflow/tf-keras-datasets/imdb.npz\n",
            "17464789/17464789 [==============================] - 0s 0us/step\n"
          ]
        },
        {
          "output_type": "execute_result",
          "data": {
            "text/plain": [
              "(25000,)"
            ]
          },
          "metadata": {},
          "execution_count": 1
        }
      ],
      "source": [
        "from keras.datasets import imdb\n",
        "(train_data,train_labels),(test_data,test_labels) = imdb.load_data(num_words=10000)\n",
        "train_data.shape"
      ]
    },
    {
      "cell_type": "code",
      "source": [
        "# 데이터 준비\n",
        "import numpy as np\n",
        "\n",
        "def vectorize_sequence(sequences, dimension = 10000 ) :     # 적당한 크기의 배열을 만들기\n",
        "  result = np.zeros((len(sequences),dimension))\n",
        "  print(result.shape)\n",
        "  for i, sequence in enumerate(sequences) :   # eunumerate : 열거형\n",
        "    result[i, sequence] = 1\n",
        "  return result"
      ],
      "metadata": {
        "id": "QSWB3xiMYXky"
      },
      "execution_count": 2,
      "outputs": []
    },
    {
      "cell_type": "code",
      "source": [
        "# enumerate example  인덱스 값을 포함하여 값을 돌려준다\n",
        "a = [1,2,3,4]\n",
        "print(a)\n",
        "for i, item in enumerate(a) :\n",
        "  print(i,item)"
      ],
      "metadata": {
        "colab": {
          "base_uri": "https://localhost:8080/"
        },
        "id": "E-oMaj_TYlYH",
        "outputId": "26ceb30b-cef1-42ee-ccda-b61f35c9dcc4"
      },
      "execution_count": 3,
      "outputs": [
        {
          "output_type": "stream",
          "name": "stdout",
          "text": [
            "[1, 2, 3, 4]\n",
            "0 1\n",
            "1 2\n",
            "2 3\n",
            "3 4\n"
          ]
        }
      ]
    },
    {
      "cell_type": "code",
      "source": [
        "x_train = vectorize_sequence(train_data)  # 문장으로 되어있는 dataset을 0과 1의 배열로 바꾸어준다 (vectorize)\n",
        "x_test = vectorize_sequence(test_data)"
      ],
      "metadata": {
        "colab": {
          "base_uri": "https://localhost:8080/"
        },
        "id": "sofIatOhZy1V",
        "outputId": "a2df275e-a7fc-4a6f-dbff-0a4dcd611ccb"
      },
      "execution_count": 4,
      "outputs": [
        {
          "output_type": "stream",
          "name": "stdout",
          "text": [
            "(25000, 10000)\n",
            "(25000, 10000)\n"
          ]
        }
      ]
    },
    {
      "cell_type": "code",
      "source": [
        "x_train[0]   #0과 1의 배열이 되었다"
      ],
      "metadata": {
        "colab": {
          "base_uri": "https://localhost:8080/"
        },
        "id": "E7CttfqzbrDY",
        "outputId": "3f689825-f2d8-4a28-9987-03f578d0579b"
      },
      "execution_count": 5,
      "outputs": [
        {
          "output_type": "execute_result",
          "data": {
            "text/plain": [
              "array([0., 1., 1., ..., 0., 0., 0.])"
            ]
          },
          "metadata": {},
          "execution_count": 5
        }
      ]
    },
    {
      "cell_type": "code",
      "source": [
        "# 라벨 데이터 실수형으로\n",
        "y_train = np.asarray(train_labels).astype('float32')\n",
        "y_test = np.asarray(test_labels).astype('float32')"
      ],
      "metadata": {
        "id": "cElgoJr_bwIt"
      },
      "execution_count": 7,
      "outputs": []
    },
    {
      "cell_type": "code",
      "source": [
        "from keras import models\n",
        "from keras import layers\n",
        "\n",
        "model = models.Sequential()\n",
        "model.add(layers.Dense(16, activation = 'relu',input_shape = (10000,))) # input layer\n",
        "model.add(layers.Dense(16, activation = 'relu')) # hidden layer\n",
        "model.add(layers.Dense(1, activation = 'sigmoid')) # output layer\n",
        "model.compile(optimizer='rmsprop',loss = 'binary_crossentropy', metrics=['accuracy'])"
      ],
      "metadata": {
        "id": "04IWi35Gb1de"
      },
      "execution_count": 8,
      "outputs": []
    },
    {
      "cell_type": "code",
      "source": [
        "x_val = x_train[:10000]\n",
        "partial_x_train = x_train[10000:]  # 데이터를 3개로 쪼갬 (x_val ,x_partial_train, x_test)\n",
        "y_val = y_train[:10000]\n",
        "partial_y_train = y_train[10000:]"
      ],
      "metadata": {
        "id": "oxYNtS3Ycu98"
      },
      "execution_count": 9,
      "outputs": []
    },
    {
      "cell_type": "code",
      "source": [
        "history = model.fit(partial_x_train, partial_y_train,epochs=20,batch_size=512,validation_data=(x_val, y_val))"
      ],
      "metadata": {
        "colab": {
          "base_uri": "https://localhost:8080/"
        },
        "id": "MD6wJrGHdn5s",
        "outputId": "76ae7904-8cf2-48de-aae3-974b514d5d0b"
      },
      "execution_count": 10,
      "outputs": [
        {
          "output_type": "stream",
          "name": "stdout",
          "text": [
            "Epoch 1/20\n",
            "30/30 [==============================] - 5s 136ms/step - loss: 0.5452 - accuracy: 0.7754 - val_loss: 0.4170 - val_accuracy: 0.8591\n",
            "Epoch 2/20\n",
            "30/30 [==============================] - 2s 52ms/step - loss: 0.3406 - accuracy: 0.8903 - val_loss: 0.3363 - val_accuracy: 0.8692\n",
            "Epoch 3/20\n",
            "30/30 [==============================] - 1s 39ms/step - loss: 0.2545 - accuracy: 0.9179 - val_loss: 0.2895 - val_accuracy: 0.8879\n",
            "Epoch 4/20\n",
            "30/30 [==============================] - 1s 39ms/step - loss: 0.2050 - accuracy: 0.9324 - val_loss: 0.2876 - val_accuracy: 0.8821\n",
            "Epoch 5/20\n",
            "30/30 [==============================] - 2s 52ms/step - loss: 0.1684 - accuracy: 0.9459 - val_loss: 0.2764 - val_accuracy: 0.8875\n",
            "Epoch 6/20\n",
            "30/30 [==============================] - 1s 40ms/step - loss: 0.1442 - accuracy: 0.9535 - val_loss: 0.2849 - val_accuracy: 0.8832\n",
            "Epoch 7/20\n",
            "30/30 [==============================] - 1s 42ms/step - loss: 0.1249 - accuracy: 0.9601 - val_loss: 0.3135 - val_accuracy: 0.8815\n",
            "Epoch 8/20\n",
            "30/30 [==============================] - 1s 42ms/step - loss: 0.1045 - accuracy: 0.9700 - val_loss: 0.3085 - val_accuracy: 0.8844\n",
            "Epoch 9/20\n",
            "30/30 [==============================] - 2s 56ms/step - loss: 0.0909 - accuracy: 0.9753 - val_loss: 0.3246 - val_accuracy: 0.8763\n",
            "Epoch 10/20\n",
            "30/30 [==============================] - 2s 65ms/step - loss: 0.0796 - accuracy: 0.9779 - val_loss: 0.3392 - val_accuracy: 0.8823\n",
            "Epoch 11/20\n",
            "30/30 [==============================] - 1s 39ms/step - loss: 0.0678 - accuracy: 0.9828 - val_loss: 0.3560 - val_accuracy: 0.8796\n",
            "Epoch 12/20\n",
            "30/30 [==============================] - 1s 41ms/step - loss: 0.0553 - accuracy: 0.9869 - val_loss: 0.3736 - val_accuracy: 0.8796\n",
            "Epoch 13/20\n",
            "30/30 [==============================] - 1s 40ms/step - loss: 0.0504 - accuracy: 0.9883 - val_loss: 0.4086 - val_accuracy: 0.8765\n",
            "Epoch 14/20\n",
            "30/30 [==============================] - 1s 41ms/step - loss: 0.0430 - accuracy: 0.9909 - val_loss: 0.4148 - val_accuracy: 0.8763\n",
            "Epoch 15/20\n",
            "30/30 [==============================] - 2s 51ms/step - loss: 0.0335 - accuracy: 0.9943 - val_loss: 0.4357 - val_accuracy: 0.8726\n",
            "Epoch 16/20\n",
            "30/30 [==============================] - 1s 40ms/step - loss: 0.0309 - accuracy: 0.9941 - val_loss: 0.4607 - val_accuracy: 0.8743\n",
            "Epoch 17/20\n",
            "30/30 [==============================] - 2s 51ms/step - loss: 0.0244 - accuracy: 0.9969 - val_loss: 0.4819 - val_accuracy: 0.8708\n",
            "Epoch 18/20\n",
            "30/30 [==============================] - 1s 44ms/step - loss: 0.0211 - accuracy: 0.9969 - val_loss: 0.5069 - val_accuracy: 0.8719\n",
            "Epoch 19/20\n",
            "30/30 [==============================] - 2s 56ms/step - loss: 0.0182 - accuracy: 0.9972 - val_loss: 0.5278 - val_accuracy: 0.8714\n",
            "Epoch 20/20\n",
            "30/30 [==============================] - 2s 53ms/step - loss: 0.0188 - accuracy: 0.9963 - val_loss: 0.5496 - val_accuracy: 0.8696\n"
          ]
        }
      ]
    },
    {
      "cell_type": "code",
      "source": [
        "history_dict = history.history\n",
        "history_dict.keys()"
      ],
      "metadata": {
        "colab": {
          "base_uri": "https://localhost:8080/"
        },
        "id": "JzDKNrPqd8yb",
        "outputId": "301d9a0c-f5fd-48db-f30d-ea1e9976ec84"
      },
      "execution_count": 11,
      "outputs": [
        {
          "output_type": "execute_result",
          "data": {
            "text/plain": [
              "dict_keys(['loss', 'accuracy', 'val_loss', 'val_accuracy'])"
            ]
          },
          "metadata": {},
          "execution_count": 11
        }
      ]
    },
    {
      "cell_type": "code",
      "source": [
        "import matplotlib.pyplot as plt\n",
        "\n",
        "acc = history.history['accuracy']\n",
        "loss = history.history['loss']\n",
        "val_acc = history.history['val_accuracy']\n",
        "val_loss = history.history['val_loss']\n",
        "\n",
        "epochs = range(1,len(acc)+1)\n",
        "\n",
        "plt.plot(epochs, loss, 'bo',label = 'Training loss')\n",
        "plt.plot(epochs, val_loss, 'r-', label = 'Validation loss')\n",
        "plt.xlabel('Epochs')\n",
        "plt.ylabel('Loss')\n",
        "plt.legend()"
      ],
      "metadata": {
        "colab": {
          "base_uri": "https://localhost:8080/",
          "height": 467
        },
        "id": "sYmCSDgYeMmi",
        "outputId": "1e812bc7-8fee-4dad-ca05-42d9f17fff62"
      },
      "execution_count": 12,
      "outputs": [
        {
          "output_type": "execute_result",
          "data": {
            "text/plain": [
              "<matplotlib.legend.Legend at 0x7fbdf4dee3e0>"
            ]
          },
          "metadata": {},
          "execution_count": 12
        },
        {
          "output_type": "display_data",
          "data": {
            "text/plain": [
              "<Figure size 640x480 with 1 Axes>"
            ],
            "image/png": "[encoded data removed]"
          },
          "metadata": {}
        }
      ]
    },
    {
      "cell_type": "code",
      "source": [
        "plt.plot(epochs, acc, 'bo',label = 'Training accuracy')\n",
        "plt.plot(epochs, val_acc, 'r-', label = 'Validation accuracy')\n",
        "plt.xlabel('Epochs')\n",
        "plt.ylabel('Accuracy')\n",
        "plt.legend()            #3번째가 결과가 가장 좋다"
      ],
      "metadata": {
        "colab": {
          "base_uri": "https://localhost:8080/",
          "height": 467
        },
        "id": "VKtqXOQAeX7U",
        "outputId": "50770ac3-25e1-4895-bb0e-67d29deb3edc"
      },
      "execution_count": 13,
      "outputs": [
        {
          "output_type": "execute_result",
          "data": {
            "text/plain": [
              "<matplotlib.legend.Legend at 0x7fbdf87347f0>"
            ]
          },
          "metadata": {},
          "execution_count": 13
        },
        {
          "output_type": "display_data",
          "data": {
            "text/plain": [
              "<Figure size 640x480 with 1 Axes>"
            ],
            "image/png": "[encoded data removed]"
          },
          "metadata": {}
        }
      ]
    },
    {
      "cell_type": "code",
      "source": [
        "test_loss, test_acc = model.evaluate(x_test, y_test)\n",
        "print('loss={0}, accuracy={1}'.format(test_loss, test_acc))"
      ],
      "metadata": {
        "colab": {
          "base_uri": "https://localhost:8080/"
        },
        "id": "a38DbmcNeaqM",
        "outputId": "22ffc1f8-6e3a-4ee4-847d-254a9f184eb8"
      },
      "execution_count": 14,
      "outputs": [
        {
          "output_type": "stream",
          "name": "stdout",
          "text": [
            "782/782 [==============================] - 2s 2ms/step - loss: 0.5953 - accuracy: 0.8596\n",
            "loss=0.595282793045044, accuracy=0.8596400022506714\n"
          ]
        }
      ]
    },
    {
      "cell_type": "code",
      "source": [],
      "metadata": {
        "id": "PKgPXAwme1SO"
      },
      "execution_count": null,
      "outputs": []
    }
  ]
}